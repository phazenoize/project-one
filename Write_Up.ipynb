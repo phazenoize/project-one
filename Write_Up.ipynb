{
 "cells": [
  {
   "cell_type": "markdown",
   "id": "236bd86c",
   "metadata": {},
   "source": [
    "# Write Up "
   ]
  },
  {
   "cell_type": "markdown",
   "id": "8d2b2339",
   "metadata": {},
   "source": [
    "For this project, our group chose to analyze a dataset from Kaggle.com which focused on U.S. wildfires caused by lightening. It contained data from 49 states, D.C.  and Puerto Rico, with the only state not included being Rhode Island. It included data on the state each fire was located on, the time it started and was extinguished, as well as things such as county name, longitude, and latitude. We chose to focus on answering four questions, depicted below. As our Dataset exceeded 878,000 lines of data, we chose to reduce the data some by removing any states that had 20 or fewer entries on the list. We also removed the fire cause column, as the WFLs were listed on the datasheet. From there, we created a series of data frames to isolated the specific pieces of data we were looking for, and  so that we could better analyze and visualize the data."
   ]
  },
  {
   "cell_type": "markdown",
   "id": "fa3886a8",
   "metadata": {},
   "source": [
    "# 1.\tWhat is each state's fire season based on month vs state?"
   ]
  },
  {
   "cell_type": "markdown",
   "id": "0841aa06",
   "metadata": {},
   "source": [
    "While no two states were exactly alike, several trends were noticed in regards to the “fire season” of each state. We defined “fire season” as the month or months in which a state was most likely to have a wildfire caused by lightning. We found that the majority of the months most likely to have a wildfire caused by lightning (hence for referred to as WFL), were the months typically considered as summer months in America: June, July and August. There were some notable outliers as well, such as West Virginia, which had the highest amount of WFLs in April, as opposed to during the hotter and drier summer months. "
   ]
  },
  {
   "cell_type": "markdown",
   "id": "ea384ed3",
   "metadata": {},
   "source": [
    "# 2.\tHas firefighting gotten more efficient/effective over time?"
   ]
  },
  {
   "cell_type": "markdown",
   "id": "8834443d",
   "metadata": {},
   "source": [
    "Based on the data we analyzed, we believed the data suggested that firefighting had gotten more efficient over time. The average time it took for a fire to be extinguished was typically less than one day. While there were outliers, such as the Florida WFL that took 160 days to be extinguished, most were put out very quickly. If Firefighting was not increasing in efficiency the data would more likely show an increase in time it took for a fire to be extinguished, or a stagnation in times. One such example would be the fire extinguishing times in Nebraska, which do not exceed two days on average, even during their fire season."
   ]
  },
  {
   "cell_type": "markdown",
   "id": "3c3cc833",
   "metadata": {},
   "source": [
    "# 3.\tHave fire sizes changed over time? Is there a trend?"
   ]
  },
  {
   "cell_type": "markdown",
   "id": "dc457780",
   "metadata": {},
   "source": [
    "Determining trends in fire sizes was one of the more difficult pieces of analysis we undertook. Due to the vast range of data, it could not be determined if fire sizes were changing from year-to-year based on average sizes alone. In Alaska, there were 34 fires exceeding 50,000 acres during the time period from which the data was collected. Even if there were a hundred other fires during a random year, and only one fire exceeding 50,000 acres, the size difference would disproportionately skew the data. Thus, we had to take the time it took to extinguish fires on average into account, as well as the number of occurring fires. The overall volume of fires was dropping, as was the numbers per year, and the time to extinguish the fires was decreasing. Had WFLs been increasing in size, it would likely have shown longer burn times, larger fire numbers, and an increase the volumes of fires. As this was not shown, it is implied by the data that trend for fire sizes is a decline."
   ]
  },
  {
   "cell_type": "markdown",
   "id": "dc39d80b",
   "metadata": {},
   "source": [
    "# 4.\tWhat state's have the most fires? Biggest fires?"
   ]
  },
  {
   "cell_type": "markdown",
   "id": "d3118ecc",
   "metadata": {},
   "source": [
    "In regards to the final question, the two states that had the largest fires in terms of acreage were revealed to be Alaska and Oregon. Alaska had fires exceeding 60,000 acres of damage, while the data showed that Oregon had fires exceeding 50,000 acres. The top five states that had the most fires in this time period, from largest to smallest number of fires, were Oregon, Arizona, California, Florida, and Idaho.  Each of these states exceeded 20,000 fires in the 24-year period our data covered. Oregon was the only to exceed 30,000 fires. "
   ]
  }
 ],
 "metadata": {
  "kernelspec": {
   "display_name": "Python 3 (ipykernel)",
   "language": "python",
   "name": "python3"
  },
  "language_info": {
   "codemirror_mode": {
    "name": "ipython",
    "version": 3
   },
   "file_extension": ".py",
   "mimetype": "text/x-python",
   "name": "python",
   "nbconvert_exporter": "python",
   "pygments_lexer": "ipython3",
   "version": "3.10.11"
  }
 },
 "nbformat": 4,
 "nbformat_minor": 5
}
