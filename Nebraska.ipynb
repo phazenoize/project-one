{
 "cells": [
  {
   "cell_type": "code",
   "execution_count": 18,
   "id": "9e3e2926",
   "metadata": {},
   "outputs": [],
   "source": [
    "import calendar\n",
    "import pandas as pd\n",
    "import csv\n",
    "import numpy as np\n",
    "from scipy.stats import linregress\n",
    "from matplotlib import pyplot as plt\n",
    "import hvplot.pandas\n",
    "\n",
    "wildfires_df = pd.read_csv(\"US_Lightning_Forest_Fires.csv\")"
   ]
  },
  {
   "cell_type": "code",
   "execution_count": 19,
   "id": "a479aaf5",
   "metadata": {},
   "outputs": [],
   "source": [
    "del wildfires_df[\"STAT_CAUSE_DESCR\"]\n",
    "del wildfires_df[\"Unnamed: 0\"]"
   ]
  },
  {
   "cell_type": "code",
   "execution_count": 20,
   "id": "ea4ed075",
   "metadata": {},
   "outputs": [
    {
     "data": {
      "text/html": [
       "<div>\n",
       "<style scoped>\n",
       "    .dataframe tbody tr th:only-of-type {\n",
       "        vertical-align: middle;\n",
       "    }\n",
       "\n",
       "    .dataframe tbody tr th {\n",
       "        vertical-align: top;\n",
       "    }\n",
       "\n",
       "    .dataframe thead th {\n",
       "        text-align: right;\n",
       "    }\n",
       "</style>\n",
       "<table border=\"1\" class=\"dataframe\">\n",
       "  <thead>\n",
       "    <tr style=\"text-align: right;\">\n",
       "      <th></th>\n",
       "      <th>index</th>\n",
       "      <th>FIRE_YEAR</th>\n",
       "      <th>Fire_Date</th>\n",
       "      <th>DISCOVERY_TIME</th>\n",
       "      <th>Days_to_extinguish_fire</th>\n",
       "      <th>CONT_TIME</th>\n",
       "      <th>FIRE_SIZE</th>\n",
       "      <th>FIRE_SIZE_CLASS</th>\n",
       "      <th>LATITUDE</th>\n",
       "      <th>LONGITUDE</th>\n",
       "      <th>STATE</th>\n",
       "      <th>FIPS_CODE</th>\n",
       "      <th>FIPS_NAME</th>\n",
       "    </tr>\n",
       "  </thead>\n",
       "  <tbody>\n",
       "    <tr>\n",
       "      <th>0</th>\n",
       "      <td>1</td>\n",
       "      <td>2004</td>\n",
       "      <td>05-12-2004</td>\n",
       "      <td>845.0</td>\n",
       "      <td>0.0</td>\n",
       "      <td>1530.0</td>\n",
       "      <td>0.25</td>\n",
       "      <td>A</td>\n",
       "      <td>38.933056</td>\n",
       "      <td>-120.404444</td>\n",
       "      <td>CA</td>\n",
       "      <td>61.0</td>\n",
       "      <td>Placer</td>\n",
       "    </tr>\n",
       "    <tr>\n",
       "      <th>1</th>\n",
       "      <td>3</td>\n",
       "      <td>2004</td>\n",
       "      <td>06-28-2004</td>\n",
       "      <td>1600.0</td>\n",
       "      <td>5.0</td>\n",
       "      <td>1400.0</td>\n",
       "      <td>0.10</td>\n",
       "      <td>A</td>\n",
       "      <td>38.559167</td>\n",
       "      <td>-119.913333</td>\n",
       "      <td>CA</td>\n",
       "      <td>3.0</td>\n",
       "      <td>Alpine</td>\n",
       "    </tr>\n",
       "    <tr>\n",
       "      <th>2</th>\n",
       "      <td>4</td>\n",
       "      <td>2004</td>\n",
       "      <td>06-28-2004</td>\n",
       "      <td>1600.0</td>\n",
       "      <td>5.0</td>\n",
       "      <td>1200.0</td>\n",
       "      <td>0.10</td>\n",
       "      <td>A</td>\n",
       "      <td>38.559167</td>\n",
       "      <td>-119.933056</td>\n",
       "      <td>CA</td>\n",
       "      <td>3.0</td>\n",
       "      <td>Alpine</td>\n",
       "    </tr>\n",
       "    <tr>\n",
       "      <th>3</th>\n",
       "      <td>5</td>\n",
       "      <td>2004</td>\n",
       "      <td>06-30-2004</td>\n",
       "      <td>1800.0</td>\n",
       "      <td>1.0</td>\n",
       "      <td>1600.0</td>\n",
       "      <td>0.10</td>\n",
       "      <td>A</td>\n",
       "      <td>38.635278</td>\n",
       "      <td>-120.103611</td>\n",
       "      <td>CA</td>\n",
       "      <td>5.0</td>\n",
       "      <td>Amador</td>\n",
       "    </tr>\n",
       "    <tr>\n",
       "      <th>4</th>\n",
       "      <td>6</td>\n",
       "      <td>2004</td>\n",
       "      <td>07-01-2004</td>\n",
       "      <td>1800.0</td>\n",
       "      <td>1.0</td>\n",
       "      <td>1400.0</td>\n",
       "      <td>0.10</td>\n",
       "      <td>A</td>\n",
       "      <td>38.688333</td>\n",
       "      <td>-120.153333</td>\n",
       "      <td>CA</td>\n",
       "      <td>17.0</td>\n",
       "      <td>El Dorado</td>\n",
       "    </tr>\n",
       "  </tbody>\n",
       "</table>\n",
       "</div>"
      ],
      "text/plain": [
       "   index  FIRE_YEAR   Fire_Date  DISCOVERY_TIME  Days_to_extinguish_fire  \\\n",
       "0      1       2004  05-12-2004           845.0                      0.0   \n",
       "1      3       2004  06-28-2004          1600.0                      5.0   \n",
       "2      4       2004  06-28-2004          1600.0                      5.0   \n",
       "3      5       2004  06-30-2004          1800.0                      1.0   \n",
       "4      6       2004  07-01-2004          1800.0                      1.0   \n",
       "\n",
       "   CONT_TIME  FIRE_SIZE FIRE_SIZE_CLASS   LATITUDE   LONGITUDE STATE  \\\n",
       "0     1530.0       0.25               A  38.933056 -120.404444    CA   \n",
       "1     1400.0       0.10               A  38.559167 -119.913333    CA   \n",
       "2     1200.0       0.10               A  38.559167 -119.933056    CA   \n",
       "3     1600.0       0.10               A  38.635278 -120.103611    CA   \n",
       "4     1400.0       0.10               A  38.688333 -120.153333    CA   \n",
       "\n",
       "   FIPS_CODE  FIPS_NAME  \n",
       "0       61.0     Placer  \n",
       "1        3.0     Alpine  \n",
       "2        3.0     Alpine  \n",
       "3        5.0     Amador  \n",
       "4       17.0  El Dorado  "
      ]
     },
     "execution_count": 20,
     "metadata": {},
     "output_type": "execute_result"
    }
   ],
   "source": [
    "wildfires_df.head()"
   ]
  },
  {
   "cell_type": "code",
   "execution_count": 21,
   "id": "ba59a088",
   "metadata": {},
   "outputs": [],
   "source": [
    "nebraska_df = wildfires_df.loc[(wildfires_df[\"STATE\"] == \"NE\"), :]"
   ]
  },
  {
   "cell_type": "code",
   "execution_count": 22,
   "id": "9906e53f",
   "metadata": {},
   "outputs": [],
   "source": [
    "county_count = nebraska_df[\"FIPS_NAME\"].value_counts()\n",
    "county_name = county_count.index\n",
    "county_occurences = county_count.values\n",
    "x_axis = np.arange(len(county_name.unique()))\n",
    "tick_locations = [value for value in x_axis]"
   ]
  },
  {
   "cell_type": "code",
   "execution_count": 23,
   "id": "4b60131e",
   "metadata": {},
   "outputs": [
    {
     "data": {
      "image/png": "[encoded data removed]",
      "text/plain": [
       "<Figure size 2000x400 with 1 Axes>"
      ]
     },
     "metadata": {},
     "output_type": "display_data"
    }
   ],
   "source": [
    "plt.figure(figsize=(20,4))\n",
    "plt.bar(x_axis, county_occurences, color='r', alpha=0.5, align='center')\n",
    "plt.xticks(tick_locations, county_name, rotation=\"vertical\")\n",
    "plt.xlim(-0.75, len(x_axis))\n",
    "plt.ylim(0, max(county_occurences)+3)\n",
    "plt.title(\"Nebraska Wildfires By County\")\n",
    "plt.xlabel(\"County Name\")\n",
    "plt.ylabel(\"Number of Fires\")\n",
    "plt.tight_layout()\n",
    "plt.savefig(\"nebraska_df.png\")\n",
    "plt.show()"
   ]
  },
  {
   "cell_type": "code",
   "execution_count": 24,
   "id": "eb895fe9",
   "metadata": {},
   "outputs": [],
   "source": [
    "nebraska_county_df = nebraska_df[[\"LATITUDE\",\"LONGITUDE\",\"FIPS_NAME\",\"FIRE_YEAR\",\"Fire_Date\"]]"
   ]
  },
  {
   "cell_type": "code",
   "execution_count": 25,
   "id": "1a77cb16",
   "metadata": {},
   "outputs": [],
   "source": [
    "#coordinates = {\n",
    "#    \"year\":nebraska_df[\"FIRE_YEAR\"],\n",
    "#    \"latitude\":nebraska_county_df[\"LATITUDE\"],\n",
    "#    \"longitude\":nebraska_county_df[\"LONGITUDE\"],\n",
    "#    \"County\":nebraska_county_df[\"FIPS_NAME\"]\n",
    "#}"
   ]
  },
  {
   "cell_type": "code",
   "execution_count": 26,
   "id": "6589a3e9",
   "metadata": {},
   "outputs": [],
   "source": [
    "#coordinates_df = pd.DataFrame(coordinates)\n",
    "#for years in coordinates_df['year']:\n",
    "#coordinates_df[coordinates_df['year'] == years]\n",
    "#map_plot_1 = coordinates_df.hvplot.points(\n",
    "        #\"longitude\",\n",
    "        #\"latitude\",\n",
    "        #geo = True,\n",
    "        #tiles = \"OSM\",\n",
    "        #frame_width = 900,\n",
    "        #frame_height = 1440\n",
    "#)\n",
    "    #plt.savefig(f'map_{years}.png')\n",
    "\n",
    "#map_plot_1"
   ]
  },
  {
   "cell_type": "code",
   "execution_count": 27,
   "id": "6ef613d2",
   "metadata": {},
   "outputs": [
    {
     "name": "stderr",
     "output_type": "stream",
     "text": [
      "C:\\Users\\Jolto\\AppData\\Local\\Temp\\ipykernel_10176\\2984204850.py:1: SettingWithCopyWarning: \n",
      "A value is trying to be set on a copy of a slice from a DataFrame.\n",
      "Try using .loc[row_indexer,col_indexer] = value instead\n",
      "\n",
      "See the caveats in the documentation: https://pandas.pydata.org/pandas-docs/stable/user_guide/indexing.html#returning-a-view-versus-a-copy\n",
      "  nebraska_county_df['FIPS_NAME'] = nebraska_county_df['FIPS_NAME'].fillna(\"No Name Given\")\n"
     ]
    }
   ],
   "source": [
    "nebraska_county_df['FIPS_NAME'] = nebraska_county_df['FIPS_NAME'].fillna(\"No Name Given\")\n",
    "fire_count_year = nebraska_county_df[\"FIRE_YEAR\"].value_counts().sort_index()\n",
    "year = fire_count_year.index.sort_values()\n",
    "x_axis = np.arange(len(year.unique()))\n",
    "tick_locations = [value for value in x_axis]"
   ]
  },
  {
   "cell_type": "code",
   "execution_count": 28,
   "id": "70b3b029",
   "metadata": {},
   "outputs": [],
   "source": [
    "(slope, intercept, rvalue, pvalue, stderr) = linregress(x_axis, fire_count_year)\n",
    "regress_values = x_axis * slope + intercept\n",
    "line_eq = \"y = \" + str(round(slope,2)) + \"x + \" + str(round(intercept,2))\n",
    "p_value = \"p = \" + str(round(pvalue,8))"
   ]
  },
  {
   "cell_type": "code",
   "execution_count": 29,
   "id": "e006b499",
   "metadata": {},
   "outputs": [
    {
     "data": {
      "image/png": "[encoded data removed]",
      "text/plain": [
       "<Figure size 2000x400 with 1 Axes>"
      ]
     },
     "metadata": {},
     "output_type": "display_data"
    }
   ],
   "source": [
    "plt.figure(figsize=(20,4))\n",
    "plt.bar(x_axis, fire_count_year, color='r', edgecolor='black')\n",
    "plt.plot(x_axis, regress_values, \"g-\")\n",
    "plt.text(10,220, line_eq, fontsize=12, color='green')\n",
    "plt.text(10,190, p_value, fontsize=12, color='blue')\n",
    "plt.xticks(tick_locations, year, rotation=\"vertical\")\n",
    "plt.xlim(-0.75, len(x_axis))\n",
    "plt.ylim(0, max(fire_count_year)+5)\n",
    "plt.title(\"Nebraska Wildfires By Year\")\n",
    "plt.xlabel(\"Year\")\n",
    "plt.ylabel(\"Number of Fires\")\n",
    "plt.tight_layout()\n",
    "plt.savefig(\"nebraska_year_fire.png\")\n",
    "plt.show()"
   ]
  },
  {
   "cell_type": "code",
   "execution_count": 30,
   "id": "1de65a81",
   "metadata": {},
   "outputs": [
    {
     "name": "stderr",
     "output_type": "stream",
     "text": [
      "C:\\Users\\Jolto\\AppData\\Local\\Temp\\ipykernel_10176\\2180987635.py:2: SettingWithCopyWarning: \n",
      "A value is trying to be set on a copy of a slice from a DataFrame.\n",
      "Try using .loc[row_indexer,col_indexer] = value instead\n",
      "\n",
      "See the caveats in the documentation: https://pandas.pydata.org/pandas-docs/stable/user_guide/indexing.html#returning-a-view-versus-a-copy\n",
      "  nebraska_date_df['Fire_Date'] = pd.to_datetime(nebraska_date_df['Fire_Date'], format='%m-%d-%Y')\n"
     ]
    },
    {
     "data": {
      "text/html": [
       "<div>\n",
       "<style scoped>\n",
       "    .dataframe tbody tr th:only-of-type {\n",
       "        vertical-align: middle;\n",
       "    }\n",
       "\n",
       "    .dataframe tbody tr th {\n",
       "        vertical-align: top;\n",
       "    }\n",
       "\n",
       "    .dataframe thead th {\n",
       "        text-align: right;\n",
       "    }\n",
       "</style>\n",
       "<table border=\"1\" class=\"dataframe\">\n",
       "  <thead>\n",
       "    <tr style=\"text-align: right;\">\n",
       "      <th></th>\n",
       "      <th>Fire_Date</th>\n",
       "      <th>FIPS_NAME</th>\n",
       "    </tr>\n",
       "  </thead>\n",
       "  <tbody>\n",
       "    <tr>\n",
       "      <th>641</th>\n",
       "      <td>2005-08-25</td>\n",
       "      <td>Sioux</td>\n",
       "    </tr>\n",
       "    <tr>\n",
       "      <th>2035</th>\n",
       "      <td>2005-09-26</td>\n",
       "      <td>Sioux</td>\n",
       "    </tr>\n",
       "    <tr>\n",
       "      <th>2868</th>\n",
       "      <td>2005-04-19</td>\n",
       "      <td>Cherry</td>\n",
       "    </tr>\n",
       "    <tr>\n",
       "      <th>2874</th>\n",
       "      <td>2005-08-01</td>\n",
       "      <td>Thomas</td>\n",
       "    </tr>\n",
       "    <tr>\n",
       "      <th>3309</th>\n",
       "      <td>2006-04-23</td>\n",
       "      <td>Thomas</td>\n",
       "    </tr>\n",
       "  </tbody>\n",
       "</table>\n",
       "</div>"
      ],
      "text/plain": [
       "      Fire_Date FIPS_NAME\n",
       "641  2005-08-25     Sioux\n",
       "2035 2005-09-26     Sioux\n",
       "2868 2005-04-19    Cherry\n",
       "2874 2005-08-01    Thomas\n",
       "3309 2006-04-23    Thomas"
      ]
     },
     "execution_count": 30,
     "metadata": {},
     "output_type": "execute_result"
    }
   ],
   "source": [
    "nebraska_date_df = nebraska_county_df[['Fire_Date','FIPS_NAME']]\n",
    "nebraska_date_df['Fire_Date'] = pd.to_datetime(nebraska_date_df['Fire_Date'], format='%m-%d-%Y')\n",
    "nebraska_date_df.head()"
   ]
  },
  {
   "cell_type": "code",
   "execution_count": 31,
   "id": "50da6bcd",
   "metadata": {},
   "outputs": [
    {
     "name": "stderr",
     "output_type": "stream",
     "text": [
      "C:\\Users\\Jolto\\AppData\\Local\\Temp\\ipykernel_10176\\885493812.py:1: SettingWithCopyWarning: \n",
      "A value is trying to be set on a copy of a slice from a DataFrame.\n",
      "Try using .loc[row_indexer,col_indexer] = value instead\n",
      "\n",
      "See the caveats in the documentation: https://pandas.pydata.org/pandas-docs/stable/user_guide/indexing.html#returning-a-view-versus-a-copy\n",
      "  nebraska_date_df['month'] = nebraska_date_df['Fire_Date'].dt.month\n",
      "C:\\Users\\Jolto\\AppData\\Local\\Temp\\ipykernel_10176\\885493812.py:2: SettingWithCopyWarning: \n",
      "A value is trying to be set on a copy of a slice from a DataFrame.\n",
      "Try using .loc[row_indexer,col_indexer] = value instead\n",
      "\n",
      "See the caveats in the documentation: https://pandas.pydata.org/pandas-docs/stable/user_guide/indexing.html#returning-a-view-versus-a-copy\n",
      "  nebraska_date_df['month'] = nebraska_date_df['month'].apply(lambda x: calendar.month_name[x])\n"
     ]
    },
    {
     "data": {
      "text/html": [
       "<div>\n",
       "<style scoped>\n",
       "    .dataframe tbody tr th:only-of-type {\n",
       "        vertical-align: middle;\n",
       "    }\n",
       "\n",
       "    .dataframe tbody tr th {\n",
       "        vertical-align: top;\n",
       "    }\n",
       "\n",
       "    .dataframe thead th {\n",
       "        text-align: right;\n",
       "    }\n",
       "</style>\n",
       "<table border=\"1\" class=\"dataframe\">\n",
       "  <thead>\n",
       "    <tr style=\"text-align: right;\">\n",
       "      <th></th>\n",
       "      <th>Fire_Date</th>\n",
       "      <th>FIPS_NAME</th>\n",
       "      <th>month</th>\n",
       "    </tr>\n",
       "  </thead>\n",
       "  <tbody>\n",
       "    <tr>\n",
       "      <th>641</th>\n",
       "      <td>2005-08-25</td>\n",
       "      <td>Sioux</td>\n",
       "      <td>August</td>\n",
       "    </tr>\n",
       "    <tr>\n",
       "      <th>2035</th>\n",
       "      <td>2005-09-26</td>\n",
       "      <td>Sioux</td>\n",
       "      <td>September</td>\n",
       "    </tr>\n",
       "    <tr>\n",
       "      <th>2868</th>\n",
       "      <td>2005-04-19</td>\n",
       "      <td>Cherry</td>\n",
       "      <td>April</td>\n",
       "    </tr>\n",
       "    <tr>\n",
       "      <th>2874</th>\n",
       "      <td>2005-08-01</td>\n",
       "      <td>Thomas</td>\n",
       "      <td>August</td>\n",
       "    </tr>\n",
       "    <tr>\n",
       "      <th>3309</th>\n",
       "      <td>2006-04-23</td>\n",
       "      <td>Thomas</td>\n",
       "      <td>April</td>\n",
       "    </tr>\n",
       "  </tbody>\n",
       "</table>\n",
       "</div>"
      ],
      "text/plain": [
       "      Fire_Date FIPS_NAME      month\n",
       "641  2005-08-25     Sioux     August\n",
       "2035 2005-09-26     Sioux  September\n",
       "2868 2005-04-19    Cherry      April\n",
       "2874 2005-08-01    Thomas     August\n",
       "3309 2006-04-23    Thomas      April"
      ]
     },
     "execution_count": 31,
     "metadata": {},
     "output_type": "execute_result"
    }
   ],
   "source": [
    "nebraska_date_df['month'] = nebraska_date_df['Fire_Date'].dt.month\n",
    "nebraska_date_df['month'] = nebraska_date_df['month'].apply(lambda x: calendar.month_name[x])\n",
    "nebraska_date_df.head()"
   ]
  },
  {
   "cell_type": "code",
   "execution_count": 32,
   "id": "2e614ed5",
   "metadata": {},
   "outputs": [
    {
     "name": "stderr",
     "output_type": "stream",
     "text": [
      "C:\\Users\\Jolto\\AppData\\Local\\Temp\\ipykernel_10176\\3750301340.py:2: SettingWithCopyWarning: \n",
      "A value is trying to be set on a copy of a slice from a DataFrame.\n",
      "Try using .loc[row_indexer,col_indexer] = value instead\n",
      "\n",
      "See the caveats in the documentation: https://pandas.pydata.org/pandas-docs/stable/user_guide/indexing.html#returning-a-view-versus-a-copy\n",
      "  nebraska_date_df[\"month\"] = pd.Categorical(nebraska_date_df[\"month\"], categories = months_categories)\n"
     ]
    },
    {
     "data": {
      "text/html": [
       "<div>\n",
       "<style scoped>\n",
       "    .dataframe tbody tr th:only-of-type {\n",
       "        vertical-align: middle;\n",
       "    }\n",
       "\n",
       "    .dataframe tbody tr th {\n",
       "        vertical-align: top;\n",
       "    }\n",
       "\n",
       "    .dataframe thead th {\n",
       "        text-align: right;\n",
       "    }\n",
       "</style>\n",
       "<table border=\"1\" class=\"dataframe\">\n",
       "  <thead>\n",
       "    <tr style=\"text-align: right;\">\n",
       "      <th></th>\n",
       "      <th>Fire_Date</th>\n",
       "      <th>FIPS_NAME</th>\n",
       "      <th>month</th>\n",
       "    </tr>\n",
       "  </thead>\n",
       "  <tbody>\n",
       "    <tr>\n",
       "      <th>257823</th>\n",
       "      <td>2013-02-09</td>\n",
       "      <td>No Name Given</td>\n",
       "      <td>February</td>\n",
       "    </tr>\n",
       "    <tr>\n",
       "      <th>245321</th>\n",
       "      <td>2012-03-29</td>\n",
       "      <td>No Name Given</td>\n",
       "      <td>March</td>\n",
       "    </tr>\n",
       "    <tr>\n",
       "      <th>275160</th>\n",
       "      <td>2015-03-28</td>\n",
       "      <td>No Name Given</td>\n",
       "      <td>March</td>\n",
       "    </tr>\n",
       "    <tr>\n",
       "      <th>19799</th>\n",
       "      <td>2009-03-22</td>\n",
       "      <td>Sioux</td>\n",
       "      <td>March</td>\n",
       "    </tr>\n",
       "    <tr>\n",
       "      <th>210788</th>\n",
       "      <td>2009-03-21</td>\n",
       "      <td>No Name Given</td>\n",
       "      <td>March</td>\n",
       "    </tr>\n",
       "    <tr>\n",
       "      <th>...</th>\n",
       "      <td>...</td>\n",
       "      <td>...</td>\n",
       "      <td>...</td>\n",
       "    </tr>\n",
       "    <tr>\n",
       "      <th>158601</th>\n",
       "      <td>1996-10-26</td>\n",
       "      <td>No Name Given</td>\n",
       "      <td>October</td>\n",
       "    </tr>\n",
       "    <tr>\n",
       "      <th>49283</th>\n",
       "      <td>1996-10-19</td>\n",
       "      <td>No Name Given</td>\n",
       "      <td>October</td>\n",
       "    </tr>\n",
       "    <tr>\n",
       "      <th>210785</th>\n",
       "      <td>2010-10-08</td>\n",
       "      <td>No Name Given</td>\n",
       "      <td>October</td>\n",
       "    </tr>\n",
       "    <tr>\n",
       "      <th>268782</th>\n",
       "      <td>2015-10-02</td>\n",
       "      <td>Sioux</td>\n",
       "      <td>October</td>\n",
       "    </tr>\n",
       "    <tr>\n",
       "      <th>232165</th>\n",
       "      <td>2011-12-30</td>\n",
       "      <td>No Name Given</td>\n",
       "      <td>December</td>\n",
       "    </tr>\n",
       "  </tbody>\n",
       "</table>\n",
       "<p>1030 rows × 3 columns</p>\n",
       "</div>"
      ],
      "text/plain": [
       "        Fire_Date      FIPS_NAME     month\n",
       "257823 2013-02-09  No Name Given  February\n",
       "245321 2012-03-29  No Name Given     March\n",
       "275160 2015-03-28  No Name Given     March\n",
       "19799  2009-03-22          Sioux     March\n",
       "210788 2009-03-21  No Name Given     March\n",
       "...           ...            ...       ...\n",
       "158601 1996-10-26  No Name Given   October\n",
       "49283  1996-10-19  No Name Given   October\n",
       "210785 2010-10-08  No Name Given   October\n",
       "268782 2015-10-02          Sioux   October\n",
       "232165 2011-12-30  No Name Given  December\n",
       "\n",
       "[1030 rows x 3 columns]"
      ]
     },
     "execution_count": 32,
     "metadata": {},
     "output_type": "execute_result"
    }
   ],
   "source": [
    "months_categories = [\"January\", \"February\", \"March\", \"April\", \"May\", \"June\", \"July\", \"August\", \"September\", \"October\", \"November\", \"December\"]\n",
    "nebraska_date_df[\"month\"] = pd.Categorical(nebraska_date_df[\"month\"], categories = months_categories)\n",
    "nebraska_date_df.sort_values(by = \"month\")"
   ]
  },
  {
   "cell_type": "code",
   "execution_count": 33,
   "id": "f85619ea",
   "metadata": {},
   "outputs": [],
   "source": [
    "fire_count_month = nebraska_date_df[\"month\"].value_counts().sort_index()\n",
    "month = fire_count_month.index.sort_values()\n",
    "x_axis = np.arange(len(month.unique()))\n",
    "tick_locations = [value for value in x_axis]"
   ]
  },
  {
   "cell_type": "code",
   "execution_count": 34,
   "id": "ae4129d9",
   "metadata": {},
   "outputs": [
    {
     "data": {
      "image/png": "[encoded data removed]",
      "text/plain": [
       "<Figure size 2000x400 with 1 Axes>"
      ]
     },
     "metadata": {},
     "output_type": "display_data"
    }
   ],
   "source": [
    "plt.figure(figsize=(20,4))\n",
    "plt.bar(x_axis, fire_count_month, color='red', edgecolor='black')\n",
    "plt.xticks(tick_locations, month, rotation=45)\n",
    "plt.xlim(-0.75, len(x_axis))\n",
    "plt.ylim(0, max(fire_count_month)+50)\n",
    "plt.title(\"Nebraska Wildfires By Month\")\n",
    "plt.xlabel(\"Month\")\n",
    "plt.ylabel(\"Number of Fires\")\n",
    "plt.tight_layout()\n",
    "plt.savefig(\"nebraska_month_fire.png\")\n",
    "plt.show()"
   ]
  },
  {
   "cell_type": "code",
   "execution_count": null,
   "id": "6bb110b5",
   "metadata": {},
   "outputs": [],
   "source": []
  },
  {
   "cell_type": "code",
   "execution_count": null,
   "id": "d725d127",
   "metadata": {},
   "outputs": [],
   "source": []
  }
 ],
 "metadata": {
  "kernelspec": {
   "display_name": "Python 3 (ipykernel)",
   "language": "python",
   "name": "python3"
  },
  "language_info": {
   "codemirror_mode": {
    "name": "ipython",
    "version": 3
   },
   "file_extension": ".py",
   "mimetype": "text/x-python",
   "name": "python",
   "nbconvert_exporter": "python",
   "pygments_lexer": "ipython3",
   "version": "3.10.11"
  }
 },
 "nbformat": 4,
 "nbformat_minor": 5
}
