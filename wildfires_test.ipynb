{
 "cells": [
  {
   "cell_type": "code",
   "execution_count": 2,
   "metadata": {},
   "outputs": [
    {
     "data": {
      "text/html": [
       "<div>\n",
       "<style scoped>\n",
       "    .dataframe tbody tr th:only-of-type {\n",
       "        vertical-align: middle;\n",
       "    }\n",
       "\n",
       "    .dataframe tbody tr th {\n",
       "        vertical-align: top;\n",
       "    }\n",
       "\n",
       "    .dataframe thead th {\n",
       "        text-align: right;\n",
       "    }\n",
       "</style>\n",
       "<table border=\"1\" class=\"dataframe\">\n",
       "  <thead>\n",
       "    <tr style=\"text-align: right;\">\n",
       "      <th></th>\n",
       "      <th>Unnamed: 0</th>\n",
       "      <th>index</th>\n",
       "      <th>FIRE_YEAR</th>\n",
       "      <th>Fire_Date</th>\n",
       "      <th>DISCOVERY_TIME</th>\n",
       "      <th>STAT_CAUSE_DESCR</th>\n",
       "      <th>Days_to_extinguish_fire</th>\n",
       "      <th>CONT_TIME</th>\n",
       "      <th>FIRE_SIZE</th>\n",
       "      <th>FIRE_SIZE_CLASS</th>\n",
       "      <th>LATITUDE</th>\n",
       "      <th>LONGITUDE</th>\n",
       "      <th>STATE</th>\n",
       "      <th>FIPS_CODE</th>\n",
       "      <th>FIPS_NAME</th>\n",
       "    </tr>\n",
       "  </thead>\n",
       "  <tbody>\n",
       "    <tr>\n",
       "      <th>0</th>\n",
       "      <td>0</td>\n",
       "      <td>1</td>\n",
       "      <td>2004</td>\n",
       "      <td>05-12-2004</td>\n",
       "      <td>845.0</td>\n",
       "      <td>Lightning</td>\n",
       "      <td>0.0</td>\n",
       "      <td>1530.0</td>\n",
       "      <td>0.25</td>\n",
       "      <td>A</td>\n",
       "      <td>38.933056</td>\n",
       "      <td>-120.404444</td>\n",
       "      <td>CA</td>\n",
       "      <td>61.0</td>\n",
       "      <td>Placer</td>\n",
       "    </tr>\n",
       "    <tr>\n",
       "      <th>1</th>\n",
       "      <td>1</td>\n",
       "      <td>3</td>\n",
       "      <td>2004</td>\n",
       "      <td>06-28-2004</td>\n",
       "      <td>1600.0</td>\n",
       "      <td>Lightning</td>\n",
       "      <td>5.0</td>\n",
       "      <td>1400.0</td>\n",
       "      <td>0.10</td>\n",
       "      <td>A</td>\n",
       "      <td>38.559167</td>\n",
       "      <td>-119.913333</td>\n",
       "      <td>CA</td>\n",
       "      <td>3.0</td>\n",
       "      <td>Alpine</td>\n",
       "    </tr>\n",
       "    <tr>\n",
       "      <th>2</th>\n",
       "      <td>2</td>\n",
       "      <td>4</td>\n",
       "      <td>2004</td>\n",
       "      <td>06-28-2004</td>\n",
       "      <td>1600.0</td>\n",
       "      <td>Lightning</td>\n",
       "      <td>5.0</td>\n",
       "      <td>1200.0</td>\n",
       "      <td>0.10</td>\n",
       "      <td>A</td>\n",
       "      <td>38.559167</td>\n",
       "      <td>-119.933056</td>\n",
       "      <td>CA</td>\n",
       "      <td>3.0</td>\n",
       "      <td>Alpine</td>\n",
       "    </tr>\n",
       "    <tr>\n",
       "      <th>3</th>\n",
       "      <td>3</td>\n",
       "      <td>5</td>\n",
       "      <td>2004</td>\n",
       "      <td>06-30-2004</td>\n",
       "      <td>1800.0</td>\n",
       "      <td>Lightning</td>\n",
       "      <td>1.0</td>\n",
       "      <td>1600.0</td>\n",
       "      <td>0.10</td>\n",
       "      <td>A</td>\n",
       "      <td>38.635278</td>\n",
       "      <td>-120.103611</td>\n",
       "      <td>CA</td>\n",
       "      <td>5.0</td>\n",
       "      <td>Amador</td>\n",
       "    </tr>\n",
       "    <tr>\n",
       "      <th>4</th>\n",
       "      <td>4</td>\n",
       "      <td>6</td>\n",
       "      <td>2004</td>\n",
       "      <td>07-01-2004</td>\n",
       "      <td>1800.0</td>\n",
       "      <td>Lightning</td>\n",
       "      <td>1.0</td>\n",
       "      <td>1400.0</td>\n",
       "      <td>0.10</td>\n",
       "      <td>A</td>\n",
       "      <td>38.688333</td>\n",
       "      <td>-120.153333</td>\n",
       "      <td>CA</td>\n",
       "      <td>17.0</td>\n",
       "      <td>El Dorado</td>\n",
       "    </tr>\n",
       "  </tbody>\n",
       "</table>\n",
       "</div>"
      ],
      "text/plain": [
       "   Unnamed: 0  index  FIRE_YEAR   Fire_Date  DISCOVERY_TIME STAT_CAUSE_DESCR  \\\n",
       "0           0      1       2004  05-12-2004           845.0        Lightning   \n",
       "1           1      3       2004  06-28-2004          1600.0        Lightning   \n",
       "2           2      4       2004  06-28-2004          1600.0        Lightning   \n",
       "3           3      5       2004  06-30-2004          1800.0        Lightning   \n",
       "4           4      6       2004  07-01-2004          1800.0        Lightning   \n",
       "\n",
       "   Days_to_extinguish_fire  CONT_TIME  FIRE_SIZE FIRE_SIZE_CLASS   LATITUDE  \\\n",
       "0                      0.0     1530.0       0.25               A  38.933056   \n",
       "1                      5.0     1400.0       0.10               A  38.559167   \n",
       "2                      5.0     1200.0       0.10               A  38.559167   \n",
       "3                      1.0     1600.0       0.10               A  38.635278   \n",
       "4                      1.0     1400.0       0.10               A  38.688333   \n",
       "\n",
       "    LONGITUDE STATE  FIPS_CODE  FIPS_NAME  \n",
       "0 -120.404444    CA       61.0     Placer  \n",
       "1 -119.913333    CA        3.0     Alpine  \n",
       "2 -119.933056    CA        3.0     Alpine  \n",
       "3 -120.103611    CA        5.0     Amador  \n",
       "4 -120.153333    CA       17.0  El Dorado  "
      ]
     },
     "execution_count": 2,
     "metadata": {},
     "output_type": "execute_result"
    }
   ],
   "source": [
    "#dependencies and Setup\n",
    "import csv\n",
    "import matplotlib.pyplot as plt\n",
    "import numpy as np\n",
    "import os\n",
    "import pandas as pd\n",
    "from pathlib import Path\n",
    "\n",
    "plt.close(\"all\")\n",
    "\n",
    "\n",
    "# file to load\n",
    "wildfires_path = Path(\"Us_Lightning_Forest_Fires.csv\")\n",
    "\n",
    "wildfires_df = pd.read_csv(wildfires_path)\n",
    "wildfires_df.head()"
   ]
  },
  {
   "cell_type": "code",
   "execution_count": 3,
   "metadata": {},
   "outputs": [
    {
     "data": {
      "text/plain": [
       "<Axes: xlabel='FIRE_YEAR'>"
      ]
     },
     "execution_count": 3,
     "metadata": {},
     "output_type": "execute_result"
    },
    {
     "data": {
      "text/plain": [
       "<Figure size 640x480 with 0 Axes>"
      ]
     },
     "metadata": {},
     "output_type": "display_data"
    },
    {
     "data": {
      "image/png": "[encoded data removed]",
      "text/plain": [
       "<Figure size 640x480 with 1 Axes>"
      ]
     },
     "metadata": {},
     "output_type": "display_data"
    }
   ],
   "source": [
    "fires_by_state = wildfires_df.groupby([\"STATE\"]).count()[\"index\"]\n",
    "\n",
    "fires_by_state_and_year = wildfires_df.groupby([\"STATE\", \"FIRE_YEAR\"]).count()[\"index\"]\n",
    "tn_df = pd.DataFrame(fires_by_state_and_year[\"TN\"])\n",
    "plt.figure()\n",
    "tn_df.plot()"
   ]
  }
 ],
 "metadata": {
  "kernelspec": {
   "display_name": "Python 3",
   "language": "python",
   "name": "python3"
  },
  "language_info": {
   "codemirror_mode": {
    "name": "ipython",
    "version": 3
   },
   "file_extension": ".py",
   "mimetype": "text/x-python",
   "name": "python",
   "nbconvert_exporter": "python",
   "pygments_lexer": "ipython3",
   "version": "3.11.4"
  },
  "orig_nbformat": 4
 },
 "nbformat": 4,
 "nbformat_minor": 2
}
